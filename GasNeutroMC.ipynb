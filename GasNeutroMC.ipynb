{
  "nbformat": 4,
  "nbformat_minor": 0,
  "metadata": {
    "colab": {
      "provenance": []
    },
    "kernelspec": {
      "name": "python3",
      "display_name": "Python 3"
    },
    "language_info": {
      "name": "python"
    }
  },
  "cells": [
    {
      "cell_type": "code",
      "execution_count": null,
      "metadata": {
        "id": "7hpicLk4mazj"
      },
      "outputs": [],
      "source": [
        "import numpy as np\n",
        "import matplotlib.pyplot as plt"
      ]
    },
    {
      "cell_type": "code",
      "source": [
        "class AtomoNeutro:\n",
        "  \"\"\"\n",
        "  Instancia un atomo para interaccion Van der waals\n",
        "  \"\"\"\n",
        "  def __init__(self, Radio, RadioConfinamiento):\n",
        "    \"\"\"\n",
        "    Radio              : Radio de la particula interactuante\n",
        "    RadioConfinamiento : Recibe radio de la region en que se immersa la particula\n",
        "    \"\"\"\n",
        "    self.radio     = Radio\n",
        "    self.radioconf = RadioConfinamiento\n",
        "    self.pos       = self.PosicionInicial()\n",
        "    self.sigma     = 2.556                                                       # Parametro de la interaccion de Van der waals\n",
        "    self.e         = 10.22                                                       # Parametro de la interaccion de Van der waals\n",
        "\n",
        "  def PosicionInicial(self):\n",
        "    \"\"\"\n",
        "    Genera un punto interno al radio de confinamiento, alejado de los bordes\n",
        "    \"\"\"\n",
        "    while True:\n",
        "      Theta = np.random.uniform(0,np.pi)\n",
        "      Phi = np.random.uniform(0,2*np.pi)\n",
        "      pos = [(self.radioconf-self.radio)*np.cos(Phi)*np.sin(Theta), (self.radioconf-self.radio)*np.sin(Phi)*np.sin(Theta), (self.radioconf-self.radio)*np.cos(Theta)]\n",
        "      pos = np.array(pos) * np.random.uniform(0,1)\n",
        "      if np.linalg.norm(pos) < self.radioconf-2*self.radio:\n",
        "        return pos\n",
        "\n",
        "  def Distancia(self, otro):\n",
        "    \"\"\"\n",
        "    Dado otro objeto de AtomoHelio, calcula la distancia entre estos\n",
        "    \"\"\"\n",
        "    return np.linalg.norm(self.pos - otro.pos)\n",
        "\n",
        "  def EnergiaPotencial(self, otro):\n",
        "    \"\"\"\n",
        "    Calcula la energia potencial entre dos particulas\n",
        "    \"\"\"\n",
        "    r = self.Distancia(otro)\n",
        "    if r < 2*self.radio:                                                         # Evita que los atomos interactuen si se solapan\n",
        "      return np.inf\n",
        "    else:\n",
        "      a = 4 * self.e * ((self.sigma/r)**12 - (self.sigma/r)**6)\n",
        "      return a"
      ],
      "metadata": {
        "id": "EP7U3J2ImlMj"
      },
      "execution_count": null,
      "outputs": []
    },
    {
      "cell_type": "code",
      "source": [
        "class GasNeutroMC:\n",
        "  \"\"\"\n",
        "  Instancia un set de objetos AtomoNeutro para modelar la interaccion entre estos por probabilidad y modelo de MC metropolis\n",
        "  \"\"\"\n",
        "  def __init__(self, NumeroAtomos, RadioConfinamiento, Temperatura, Iteraciones, step, File=False):\n",
        "    \"\"\"\n",
        "    NumeroAtomos       : Numero de atomos a interactuar\n",
        "    RadioConfinamiento : Radio de confinamiento para el sistema\n",
        "    Temperatura        : Temperatura del sistema\n",
        "    Iteraciones        : Numero de iteraciones de MC\n",
        "    step               : Tamaño de saltos de MC\n",
        "    File               : Ruta especifica para guardar la informacion espacial del sistema\n",
        "    \"\"\"\n",
        "    self.num_part = NumeroAtomos\n",
        "    self.resfera  = RadioConfinamiento\n",
        "    self.T        = Temperatura\n",
        "    self.k_b      = 1\n",
        "    self.iter     = Iteraciones\n",
        "    self.step     = step\n",
        "    self.atoms    = [AtomoNeutro(0.5, self.resfera) for _ in range(self.num_part)]\n",
        "    self.Energy   = np.zeros(self.iter)\n",
        "    if File:\n",
        "      self.export   = File\n",
        "    else:\n",
        "      self.export   = '/content/MCN_A{}_R{}_T{}_Iter{}.txt'.format(self.num_part, self.resfera, self.T, self.iter)\n",
        "\n",
        "  def Energia(self):\n",
        "    \"\"\"\n",
        "    Calcula la energia de una configuracion particular\n",
        "    \"\"\"\n",
        "    totalE = 0\n",
        "    for i in range(self.num_part):\n",
        "      for j in range(i+1, self.num_part):\n",
        "        totalE += self.atoms[i].EnergiaPotencial(self.atoms[j])\n",
        "    return totalE\n",
        "\n",
        "  def Boundary(self, atom):\n",
        "    \"\"\"\n",
        "    Condicion de limite para atomos confinados\n",
        "    \"\"\"\n",
        "    return np.linalg.norm(atom.pos) > self.resfera\n",
        "\n",
        "  def Posiciones(self):\n",
        "    \"\"\"\n",
        "    Se uso en version anterior al codigo y me da miedo quitarla xd\n",
        "    \"\"\"\n",
        "    c = [atom.pos for atom in self.atoms]\n",
        "    return c\n",
        "\n",
        "  def Mover(self):\n",
        "    \"\"\"\n",
        "    Realiza la evolucion por iteracion del sistema\n",
        "    \"\"\"\n",
        "    C = np.zeros((self.num_part, 3))\n",
        "    self.Pos = np.zeros((self.iter, self.num_part, 3))\n",
        "    for s in range(self.iter):\n",
        "      A = self.Energia()                                                                                # Energia de la config actual\n",
        "      for i in range(self.num_part):\n",
        "        C[i] = (self.atoms[i].pos).copy()                                                               # Posicion de la config actual\n",
        "        self.atoms[i].pos = C[i] + self.step*(2 * np.random.rand(3) - 1)                                # Posicion de la config posible MC metropolis\n",
        "        while self.Boundary(self.atoms[i]):\n",
        "          self.atoms[i].pos = C[i]                                                                      # Devuelve al atomo a su posicion actual si la posible sale del boundary\n",
        "      B = self.Energia()                                                                                # Calcula la energia de la config posible\n",
        "      ediff = B - A                                                                                     # Calcula diferencia de energia entre estados\n",
        "      if ediff <0 or np.random.rand() < np.exp(- np.abs(ediff) / (self.k_b * self.T)):                  # Condicion de aceptacion\n",
        "        a=1\n",
        "      else:\n",
        "        for j in range(self.num_part):                                                                  # Si falla entonces que reescriba la posicion de los atomos como los de la config previa\n",
        "          self.atoms[j].pos = C[j]\n",
        "      for i in range(self.num_part):\n",
        "        self.Pos[s,i,:]=self.atoms[i].pos\n",
        "      self.Energy[s]=self.Energia()\n",
        "    return self.Pos\n",
        "\n",
        "  def XYZ(self):\n",
        "    \"\"\"\n",
        "    Hace el movimiento y crea el archivo txt con las posiciones\n",
        "    \"\"\"\n",
        "    A = self.Mover()\n",
        "    B = np.round(A,3)\n",
        "    file = open(self.export, 'w')\n",
        "    for s in range(iter):\n",
        "      h = '{}\\niter {}'.format(numatom, s)\n",
        "      for i in range(self.num_part):\n",
        "        h+= '\\nHe'+' '\n",
        "        for j in range(3):\n",
        "          h += str(B[s,i,j])+' '\n",
        "      h += '\\n'\n",
        "      file.write(h)\n",
        "    file.close()\n",
        "\n",
        "  def Plot(self):\n",
        "    \"\"\"\n",
        "    Muestra y guarda el grafico de energia por iteracion para verificar movimiento a configuraciones estables\n",
        "    \"\"\"\n",
        "    self.XYZ()\n",
        "    plt.plot(np.arange(self.iter-1), self.Energy[1:])\n",
        "    plt.xlabel('Iteraciones')\n",
        "    plt.ylabel('Energia total del sistema')\n",
        "    plt.title('{} He interactuantes por Van der waals MC a {}K\\n {} iteraciones'.format(self.num_part, self.T ,self.iter))\n",
        "    plt.savefig('/content/MCN_A{}_R{}_T{}_Iter{}.png'.format(self.num_part, self.resfera, self.T, self.iter))\n",
        "    return plt.plot(np.arange(self.iter-1), self.Energy[1:])"
      ],
      "metadata": {
        "id": "3eq-7EYf20u5"
      },
      "execution_count": null,
      "outputs": []
    },
    {
      "cell_type": "code",
      "source": [
        "numatom = 2\n",
        "radio   = 10\n",
        "iter = 5000\n",
        "step = 0.1\n",
        "\n",
        "A = GasNeutroMC(NumeroAtomos = numatom, RadioConfinamiento=radio, Temperatura=0.01, Iteraciones=iter, step=step)\n",
        "A.Plot()"
      ],
      "metadata": {
        "colab": {
          "base_uri": "https://localhost:8080/",
          "height": 510
        },
        "id": "EORWjkk6BSLC",
        "outputId": "55415640-de8b-4ac9-f358-c12c0abf9d23"
      },
      "execution_count": null,
      "outputs": [
        {
          "output_type": "execute_result",
          "data": {
            "text/plain": [
              "[<matplotlib.lines.Line2D at 0x7d9514452aa0>]"
            ]
          },
          "metadata": {},
          "execution_count": 74
        },
        {
          "output_type": "display_data",
          "data": {
            "text/plain": [
              "<Figure size 640x480 with 1 Axes>"
            ],
            "image/png": "[encoded data removed]"
          },
          "metadata": {}
        }
      ]
    }
  ]
}